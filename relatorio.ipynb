{
 "cells": [
  {
   "cell_type": "markdown",
   "metadata": {},
   "source": [
    "# Relatório"
   ]
  },
  {
   "cell_type": "code",
   "execution_count": 7,
   "metadata": {},
   "outputs": [],
   "source": [
    "import pandas as pd\n",
    "import numpy as np\n"
   ]
  },
  {
   "cell_type": "markdown",
   "metadata": {},
   "source": [
    "# Carregando dados"
   ]
  },
  {
   "cell_type": "code",
   "execution_count": 8,
   "metadata": {},
   "outputs": [
    {
     "data": {
      "text/html": [
       "<div>\n",
       "<style scoped>\n",
       "    .dataframe tbody tr th:only-of-type {\n",
       "        vertical-align: middle;\n",
       "    }\n",
       "\n",
       "    .dataframe tbody tr th {\n",
       "        vertical-align: top;\n",
       "    }\n",
       "\n",
       "    .dataframe thead th {\n",
       "        text-align: right;\n",
       "    }\n",
       "</style>\n",
       "<table border=\"1\" class=\"dataframe\">\n",
       "  <thead>\n",
       "    <tr style=\"text-align: right;\">\n",
       "      <th></th>\n",
       "      <th>Dia</th>\n",
       "      <th>Horas_Trabalhadas</th>\n",
       "      <th>Bugs_Corrigidos</th>\n",
       "      <th>Tarefas_concluidas</th>\n",
       "    </tr>\n",
       "  </thead>\n",
       "  <tbody>\n",
       "    <tr>\n",
       "      <th>0</th>\n",
       "      <td>Segunda</td>\n",
       "      <td>6</td>\n",
       "      <td>3</td>\n",
       "      <td>5</td>\n",
       "    </tr>\n",
       "    <tr>\n",
       "      <th>1</th>\n",
       "      <td>Terça</td>\n",
       "      <td>7</td>\n",
       "      <td>2</td>\n",
       "      <td>4</td>\n",
       "    </tr>\n",
       "    <tr>\n",
       "      <th>2</th>\n",
       "      <td>Quarta</td>\n",
       "      <td>8</td>\n",
       "      <td>1</td>\n",
       "      <td>6</td>\n",
       "    </tr>\n",
       "    <tr>\n",
       "      <th>3</th>\n",
       "      <td>Quinta</td>\n",
       "      <td>6</td>\n",
       "      <td>4</td>\n",
       "      <td>4</td>\n",
       "    </tr>\n",
       "    <tr>\n",
       "      <th>4</th>\n",
       "      <td>Sexta</td>\n",
       "      <td>7</td>\n",
       "      <td>3</td>\n",
       "      <td>5</td>\n",
       "    </tr>\n",
       "    <tr>\n",
       "      <th>5</th>\n",
       "      <td>Sábado</td>\n",
       "      <td>5</td>\n",
       "      <td>2</td>\n",
       "      <td>3</td>\n",
       "    </tr>\n",
       "    <tr>\n",
       "      <th>6</th>\n",
       "      <td>Domingo</td>\n",
       "      <td>4</td>\n",
       "      <td>1</td>\n",
       "      <td>2</td>\n",
       "    </tr>\n",
       "  </tbody>\n",
       "</table>\n",
       "</div>"
      ],
      "text/plain": [
       "       Dia  Horas_Trabalhadas  Bugs_Corrigidos  Tarefas_concluidas\n",
       "0  Segunda                  6                3                   5\n",
       "1    Terça                  7                2                   4\n",
       "2   Quarta                  8                1                   6\n",
       "3   Quinta                  6                4                   4\n",
       "4    Sexta                  7                3                   5\n",
       "5   Sábado                  5                2                   3\n",
       "6  Domingo                  4                1                   2"
      ]
     },
     "execution_count": 8,
     "metadata": {},
     "output_type": "execute_result"
    }
   ],
   "source": [
    "df = pd.read_excel('dados.xlsx')\n",
    "df"
   ]
  },
  {
   "cell_type": "markdown",
   "metadata": {},
   "source": [
    "# Realizando Análises"
   ]
  },
  {
   "cell_type": "code",
   "execution_count": 20,
   "metadata": {},
   "outputs": [
    {
     "name": "stdout",
     "output_type": "stream",
     "text": [
      "\n",
      "Total de Horas Trabalhadas: 43 horas\n",
      "Média Diária de Horas Trabalhadas: 6.14 horas\n",
      "Total de Bugs Corrigidos: 16 Bugs\n",
      "Média Diária de Bugs Corrigidos: 2.29 Bugs\n",
      "Total de Tarefas Concluídas: 29 tarefas\n",
      "Média Diária de Tarefas Concluídas: 4.14 tarefas \n",
      "Produtividade Diária: 0.67 tarefas por hora\n",
      "\n"
     ]
    }
   ],
   "source": [
    "#Total de horas Trabalahadas\n",
    "total_horas_trabalhadas = df['Horas_Trabalhadas'].sum()\n",
    "\n",
    "#Média Diária de Horas Trabalhadas\n",
    "media_horas_trabalhadas = df['Horas_Trabalhadas'].mean()\n",
    "\n",
    "#Total de Bugs Corrigidos\n",
    "total_bugs = df['Bugs_Corrigidos'].sum()\n",
    "\n",
    "# Média Diária de Bugs Corrigidos\n",
    "media_bugs = df['Bugs_Corrigidos'].mean()\n",
    "\n",
    "# Total de Tarefas Concluídas\n",
    "total_tarefas = df['Tarefas_concluidas'].sum()\n",
    "\n",
    "# Média Diária de Tarefas Concluídas\n",
    "media_tarefas = df['Tarefas_concluidas'].mean()\n",
    "\n",
    "# Produtividade Diária (Tarefas Concluídas por Hora)\n",
    "produtividade = total_tarefas/total_horas_trabalhadas\n",
    "\n",
    "\n",
    "resultado_final = f\"\"\"\n",
    "Total de Horas Trabalhadas: {total_horas_trabalhadas} horas\n",
    "Média Diária de Horas Trabalhadas: {media_horas_trabalhadas:.2f} horas\n",
    "Total de Bugs Corrigidos: {total_bugs} Bugs\n",
    "Média Diária de Bugs Corrigidos: {media_bugs:.2f} Bugs\n",
    "Total de Tarefas Concluídas: {total_tarefas} tarefas\n",
    "Média Diária de Tarefas Concluídas: {media_tarefas:.2f} tarefas \n",
    "Produtividade Diária: {produtividade:.2f} tarefas por hora\n",
    "\"\"\"\n",
    "\n",
    "print(resultado_final)\n"
   ]
  }
 ],
 "metadata": {
  "kernelspec": {
   "display_name": "Python 3",
   "language": "python",
   "name": "python3"
  },
  "language_info": {
   "codemirror_mode": {
    "name": "ipython",
    "version": 3
   },
   "file_extension": ".py",
   "mimetype": "text/x-python",
   "name": "python",
   "nbconvert_exporter": "python",
   "pygments_lexer": "ipython3",
   "version": "3.11.2"
  }
 },
 "nbformat": 4,
 "nbformat_minor": 2
}
